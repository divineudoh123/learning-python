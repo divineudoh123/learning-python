{
 "cells": [
  {
   "cell_type": "markdown",
   "id": "013514a9",
   "metadata": {},
   "source": [
    "CONTROL FLOW\n",
    "WANT A CODE TO EXECUTE WHEN A PARTICULAR CONDITION HAS BEEN MET.\n",
    "KEYWORDS:\n",
    "if \n",
    "elif\n",
    "else\n",
    "INDENTATION IS IMPORTANT"
   ]
  },
  {
   "cell_type": "code",
   "execution_count": 2,
   "id": "a38b51e5",
   "metadata": {},
   "outputs": [
    {
     "name": "stdout",
     "output_type": "stream",
     "text": [
      "IT IS TRUE!!!\n"
     ]
    }
   ],
   "source": [
    "if True:\n",
    "    print('IT IS TRUE!!!')"
   ]
  },
  {
   "cell_type": "code",
   "execution_count": 3,
   "id": "2a490830",
   "metadata": {},
   "outputs": [
    {
     "name": "stdout",
     "output_type": "stream",
     "text": [
      "three is greater than two\n"
     ]
    }
   ],
   "source": [
    "if 3>2:\n",
    "    print('three is greater than two')"
   ]
  },
  {
   "cell_type": "code",
   "execution_count": 4,
   "id": "45f4902e",
   "metadata": {},
   "outputs": [
    {
     "name": "stdout",
     "output_type": "stream",
     "text": [
      "I am starving\n"
     ]
    }
   ],
   "source": [
    "starving = True\n",
    "\n",
    "if starving:\n",
    "    print('I am starving')"
   ]
  },
  {
   "cell_type": "code",
   "execution_count": 6,
   "id": "a9fc2957",
   "metadata": {},
   "outputs": [
    {
     "name": "stdout",
     "output_type": "stream",
     "text": [
      "I am not starving\n"
     ]
    }
   ],
   "source": [
    "starving = False\n",
    "\n",
    "if starving:\n",
    "    print('I am starving')\n",
    "else:\n",
    "    print('I am not starving')"
   ]
  },
  {
   "cell_type": "code",
   "execution_count": 7,
   "id": "d021afbb",
   "metadata": {},
   "outputs": [
    {
     "name": "stdout",
     "output_type": "stream",
     "text": [
      "I do not know much!\n"
     ]
    }
   ],
   "source": [
    "location = 'Bank'\n",
    "\n",
    "if location == 'Auto shop':\n",
    "    print('Cars are cool!')\n",
    "else:\n",
    "    print('I do not know much!')"
   ]
  },
  {
   "cell_type": "code",
   "execution_count": 8,
   "id": "bdf624c1",
   "metadata": {},
   "outputs": [
    {
     "name": "stdout",
     "output_type": "stream",
     "text": [
      "Money is cool!\n"
     ]
    }
   ],
   "source": [
    "location = 'Bank'\n",
    "\n",
    "if location == 'Auto shop':\n",
    "    print('Cars are cool!')\n",
    "elif location == 'Bank':\n",
    "    print('Money is cool!')\n",
    "else:\n",
    "    print('I do not know much!')"
   ]
  }
 ],
 "metadata": {
  "kernelspec": {
   "display_name": "base",
   "language": "python",
   "name": "python3"
  },
  "language_info": {
   "codemirror_mode": {
    "name": "ipython",
    "version": 3
   },
   "file_extension": ".py",
   "mimetype": "text/x-python",
   "name": "python",
   "nbconvert_exporter": "python",
   "pygments_lexer": "ipython3",
   "version": "3.13.5"
  }
 },
 "nbformat": 4,
 "nbformat_minor": 5
}
