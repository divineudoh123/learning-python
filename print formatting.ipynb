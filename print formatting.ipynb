{
 "cells": [
  {
   "cell_type": "code",
   "execution_count": 1,
   "id": "d9c4412a",
   "metadata": {},
   "outputs": [],
   "source": [
    "a = 'Divine'"
   ]
  },
  {
   "cell_type": "code",
   "execution_count": 2,
   "id": "4b7f725b",
   "metadata": {},
   "outputs": [
    {
     "name": "stdout",
     "output_type": "stream",
     "text": [
      "My name is Divine\n"
     ]
    }
   ],
   "source": [
    "print(f\"My name is {a}\")"
   ]
  },
  {
   "cell_type": "code",
   "execution_count": 3,
   "id": "5b417770",
   "metadata": {},
   "outputs": [],
   "source": [
    "age = 18\n",
    "favorite_food = 'Jollof rice'"
   ]
  },
  {
   "cell_type": "code",
   "execution_count": 4,
   "id": "49c4da9d",
   "metadata": {},
   "outputs": [
    {
     "name": "stdout",
     "output_type": "stream",
     "text": [
      "My name is Divine, my age is 18 and my favorite food is Jollof rice\n"
     ]
    }
   ],
   "source": [
    "print(f\"My name is {a}, my age is {age} and my favorite food is {favorite_food}\")"
   ]
  },
  {
   "cell_type": "code",
   "execution_count": 5,
   "id": "f5bdfdc0",
   "metadata": {},
   "outputs": [],
   "source": [
    "#float formatting\n",
    "result = 100/7"
   ]
  },
  {
   "cell_type": "code",
   "execution_count": 6,
   "id": "7eda3742",
   "metadata": {},
   "outputs": [
    {
     "data": {
      "text/plain": [
       "14.285714285714286"
      ]
     },
     "execution_count": 6,
     "metadata": {},
     "output_type": "execute_result"
    }
   ],
   "source": [
    "result"
   ]
  },
  {
   "cell_type": "code",
   "execution_count": 7,
   "id": "0193ce47",
   "metadata": {},
   "outputs": [
    {
     "name": "stdout",
     "output_type": "stream",
     "text": [
      "The result was 14.285714285714286\n"
     ]
    }
   ],
   "source": [
    "print(f\"The result was {result}\")"
   ]
  },
  {
   "cell_type": "code",
   "execution_count": 8,
   "id": "e3aceb5a",
   "metadata": {},
   "outputs": [
    {
     "name": "stdout",
     "output_type": "stream",
     "text": [
      "The result was 14.286\n"
     ]
    }
   ],
   "source": [
    "#{value:width.precision}\n",
    "print(f\"The result was {result:1.3f}\")"
   ]
  },
  {
   "cell_type": "code",
   "execution_count": 9,
   "id": "4797b4ad",
   "metadata": {},
   "outputs": [
    {
     "name": "stdout",
     "output_type": "stream",
     "text": [
      "The result was     14.286\n"
     ]
    }
   ],
   "source": [
    "#width value adds white space\n",
    "print(f\"The result was {result:10.3f}\")"
   ]
  },
  {
   "cell_type": "code",
   "execution_count": null,
   "id": "fb0a5004",
   "metadata": {},
   "outputs": [
    {
     "name": "stdout",
     "output_type": "stream",
     "text": [
      "The result was   14.286  \n"
     ]
    }
   ],
   "source": [
    "print(f\"The result was {result:^10.3f}\") #content in the middle of the whitespace"
   ]
  },
  {
   "cell_type": "code",
   "execution_count": 14,
   "id": "195de29a",
   "metadata": {},
   "outputs": [
    {
     "name": "stdout",
     "output_type": "stream",
     "text": [
      "The result was 14.286\n"
     ]
    }
   ],
   "source": [
    "print(f\"The result was {result:<1.3f}\") #left"
   ]
  },
  {
   "cell_type": "code",
   "execution_count": 17,
   "id": "2dec3af6",
   "metadata": {},
   "outputs": [
    {
     "name": "stdout",
     "output_type": "stream",
     "text": [
      "The result was 000014.286\n"
     ]
    }
   ],
   "source": [
    "print(f\"The result was {result:>010.3f}\") #right"
   ]
  },
  {
   "cell_type": "code",
   "execution_count": 20,
   "id": "db30748c",
   "metadata": {},
   "outputs": [
    {
     "name": "stdout",
     "output_type": "stream",
     "text": [
      "The result was //14.286//\n"
     ]
    }
   ],
   "source": [
    "print(f\"The result was {result:/^10.3f}\")"
   ]
  },
  {
   "cell_type": "code",
   "execution_count": null,
   "id": "7c79ed16",
   "metadata": {},
   "outputs": [],
   "source": []
  }
 ],
 "metadata": {
  "kernelspec": {
   "display_name": "base",
   "language": "python",
   "name": "python3"
  },
  "language_info": {
   "codemirror_mode": {
    "name": "ipython",
    "version": 3
   },
   "file_extension": ".py",
   "mimetype": "text/x-python",
   "name": "python",
   "nbconvert_exporter": "python",
   "pygments_lexer": "ipython3",
   "version": "3.13.5"
  }
 },
 "nbformat": 4,
 "nbformat_minor": 5
}
