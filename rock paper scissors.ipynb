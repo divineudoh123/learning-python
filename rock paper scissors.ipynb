{
 "cells": [
  {
   "cell_type": "code",
   "execution_count": null,
   "id": "a0ae3787",
   "metadata": {},
   "outputs": [],
   "source": [
    "a = [1, 4, 9, 16, 25, 36, 49, 64, 81, 100]\n",
    "list1 = [x for x in a if x%2==0]\n",
    "print(list1)"
   ]
  },
  {
   "cell_type": "code",
   "execution_count": 2,
   "id": "75245c39",
   "metadata": {},
   "outputs": [
    {
     "name": "stdout",
     "output_type": "stream",
     "text": [
      "Here are the rules:\n",
      "I will ask player one what he is choosing first then player 2.\n",
      "Rock beats scissors. Scissors beats paper. Paper beats Rock.\n",
      "In case of a draw, you will play again.\n",
      "Congratulations player 1. You win!\n"
     ]
    }
   ],
   "source": [
    "print('Here are the rules:')\n",
    "print('I will ask player one what he is choosing first then player 2.')\n",
    "print('Rock beats scissors. Scissors beats paper. Paper beats Rock.')\n",
    "print('In case of a draw, you will play again.')\n",
    "\n",
    "while True:\n",
    "    selection1 = input(\"Player 1 choose rock,paper or scissors. Player 2 move away from the screen.\")\n",
    "    selection2 = input(\"Player 2 choose rock,paper or scissors\")\n",
    "\n",
    "    if selection1==selection2:\n",
    "        continue\n",
    "    else:\n",
    "        if selection1=='rock' and selection2=='scissors':\n",
    "            print('Congratulations player 1. You win!')\n",
    "        elif selection2=='rock' and selection1=='scissors':\n",
    "            print('Congratulations player 2. You win!')\n",
    "        elif selection1=='scissors' and selection2=='paper':\n",
    "            print('Congratulations player 1. You win!')\n",
    "        elif selection1=='paper' and selection2=='scissors':\n",
    "            print('Congratulations player 2. You win!')\n",
    "        elif selection1=='rock' and selection2=='paper':\n",
    "            print('Congratulations player 2. You win!')\n",
    "        else:\n",
    "            print('Congratulations player 1. You win!')\n",
    "        break"
   ]
  },
  {
   "cell_type": "code",
   "execution_count": null,
   "id": "38ef624f",
   "metadata": {},
   "outputs": [],
   "source": []
  }
 ],
 "metadata": {
  "kernelspec": {
   "display_name": "base",
   "language": "python",
   "name": "python3"
  },
  "language_info": {
   "codemirror_mode": {
    "name": "ipython",
    "version": 3
   },
   "file_extension": ".py",
   "mimetype": "text/x-python",
   "name": "python",
   "nbconvert_exporter": "python",
   "pygments_lexer": "ipython3",
   "version": "3.13.5"
  }
 },
 "nbformat": 4,
 "nbformat_minor": 5
}
